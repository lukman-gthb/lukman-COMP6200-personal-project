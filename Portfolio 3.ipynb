{
 "cells": [
  {
   "cell_type": "markdown",
   "metadata": {},
   "source": [
    "# Predicting the Genre of Books from Summaries"
   ]
  },
  {
   "cell_type": "markdown",
   "metadata": {},
   "source": [
    "## Loading all the libraries"
   ]
  },
  {
   "cell_type": "code",
   "execution_count": 1,
   "metadata": {},
   "outputs": [
    {
     "name": "stderr",
     "output_type": "stream",
     "text": [
      "[nltk_data] Downloading package wordnet to /home/cisitu/nltk_data...\n",
      "[nltk_data]   Package wordnet is already up-to-date!\n",
      "[nltk_data] Downloading package punkt to /home/cisitu/nltk_data...\n",
      "[nltk_data]   Package punkt is already up-to-date!\n"
     ]
    },
    {
     "data": {
      "text/plain": [
       "True"
      ]
     },
     "execution_count": 1,
     "metadata": {},
     "output_type": "execute_result"
    }
   ],
   "source": [
    "import pandas as pd\n",
    "import numpy as np\n",
    "import matplotlib.pyplot as plt\n",
    "import nltk\n",
    "\n",
    "from sklearn.model_selection import train_test_split\n",
    "from sklearn.feature_extraction.text import CountVectorizer, TfidfTransformer\n",
    "from sklearn.naive_bayes import MultinomialNB\n",
    "from sklearn.linear_model import LogisticRegression\n",
    "from sklearn.neighbors import KNeighborsClassifier\n",
    "from sklearn.metrics import confusion_matrix, accuracy_score, classification_report\n",
    "\n",
    "from nltk.tokenize import sent_tokenize, word_tokenize\n",
    "from nltk.stem import PorterStemmer\n",
    "\n",
    "import warnings\n",
    "warnings.filterwarnings('ignore')\n",
    "\n",
    "pd.options.display.float_format = '{:,.2f}'.format\n",
    "%matplotlib inline\n",
    "\n",
    "nltk.download('wordnet')\n",
    "nltk.download('punkt')"
   ]
  },
  {
   "cell_type": "markdown",
   "metadata": {},
   "source": [
    "## Data Preparation\n",
    "\n",
    "In this analysis, a set of book summaries from [CMU Book Summaries Corpus](http://www.cs.cmu.edu/~dbamman/booksummaries.html) is used. The dataset contains a large number of summaries and include the genre information of the books taken from Freebase. Each book can have more than one genre and there are 227 genres listed in total. In order to simplify the problem, only a small number of target genres that occur frequently are selected and the experiment only uses the book with selected genre."
   ]
  },
  {
   "cell_type": "code",
   "execution_count": 2,
   "metadata": {
    "scrolled": true
   },
   "outputs": [],
   "source": [
    "names = ['wid', 'fid', 'title', 'author', 'date', 'genres', 'summary']\n",
    "\n",
    "books = pd.read_csv(\"data/Portfolio3files/booksummaries.txt\", sep=\"\\t\", header=None, names=names, keep_default_na=False)\n"
   ]
  },
  {
   "cell_type": "markdown",
   "metadata": {},
   "source": [
    "We next filter the data so that only our target genre labels are included and we assign each text to just one of the genre labels.  It's possible that one text could be labelled with two of these labels (eg. Science Fiction and Fantasy) but we will just assign one of those here. "
   ]
  },
  {
   "cell_type": "code",
   "execution_count": 3,
   "metadata": {},
   "outputs": [
    {
     "data": {
      "text/plain": [
       "(8954, 5)"
      ]
     },
     "execution_count": 3,
     "metadata": {},
     "output_type": "execute_result"
    }
   ],
   "source": [
    "target_genres = [\"Children's literature\",\n",
    "                 'Science Fiction',\n",
    "                 'Novel',\n",
    "                 'Fantasy',\n",
    "                 'Mystery']\n",
    "\n",
    "# create a Series of empty strings the same length as the list of books\n",
    "genre = pd.Series(np.repeat(\"\", books.shape[0]))\n",
    "# look for each target genre and set the corresponding entries in the genre series to the genre label\n",
    "for g in target_genres:\n",
    "    genre[books['genres'].str.contains(g)] = g\n",
    "\n",
    "# add this to the book dataframe and then select only those rows that have a genre label\n",
    "# drop some useless columns\n",
    "books['genre'] = genre\n",
    "genre_books = books[genre!=''].drop(['genres', 'fid', 'wid'], axis=1)\n",
    "\n",
    "genre_books.shape"
   ]
  },
  {
   "cell_type": "code",
   "execution_count": 4,
   "metadata": {},
   "outputs": [
    {
     "data": {
      "text/html": [
       "<div>\n",
       "<style scoped>\n",
       "    .dataframe tbody tr th:only-of-type {\n",
       "        vertical-align: middle;\n",
       "    }\n",
       "\n",
       "    .dataframe tbody tr th {\n",
       "        vertical-align: top;\n",
       "    }\n",
       "\n",
       "    .dataframe thead th {\n",
       "        text-align: right;\n",
       "    }\n",
       "</style>\n",
       "<table border=\"1\" class=\"dataframe\">\n",
       "  <thead>\n",
       "    <tr style=\"text-align: right;\">\n",
       "      <th></th>\n",
       "      <th>title</th>\n",
       "      <th>author</th>\n",
       "      <th>date</th>\n",
       "      <th>summary</th>\n",
       "    </tr>\n",
       "    <tr>\n",
       "      <th>genre</th>\n",
       "      <th></th>\n",
       "      <th></th>\n",
       "      <th></th>\n",
       "      <th></th>\n",
       "    </tr>\n",
       "  </thead>\n",
       "  <tbody>\n",
       "    <tr>\n",
       "      <th>Children's literature</th>\n",
       "      <td>1092</td>\n",
       "      <td>1092</td>\n",
       "      <td>1092</td>\n",
       "      <td>1092</td>\n",
       "    </tr>\n",
       "    <tr>\n",
       "      <th>Fantasy</th>\n",
       "      <td>2311</td>\n",
       "      <td>2311</td>\n",
       "      <td>2311</td>\n",
       "      <td>2311</td>\n",
       "    </tr>\n",
       "    <tr>\n",
       "      <th>Mystery</th>\n",
       "      <td>1396</td>\n",
       "      <td>1396</td>\n",
       "      <td>1396</td>\n",
       "      <td>1396</td>\n",
       "    </tr>\n",
       "    <tr>\n",
       "      <th>Novel</th>\n",
       "      <td>2258</td>\n",
       "      <td>2258</td>\n",
       "      <td>2258</td>\n",
       "      <td>2258</td>\n",
       "    </tr>\n",
       "    <tr>\n",
       "      <th>Science Fiction</th>\n",
       "      <td>1897</td>\n",
       "      <td>1897</td>\n",
       "      <td>1897</td>\n",
       "      <td>1897</td>\n",
       "    </tr>\n",
       "  </tbody>\n",
       "</table>\n",
       "</div>"
      ],
      "text/plain": [
       "                       title  author  date  summary\n",
       "genre                                              \n",
       "Children's literature   1092    1092  1092     1092\n",
       "Fantasy                 2311    2311  2311     2311\n",
       "Mystery                 1396    1396  1396     1396\n",
       "Novel                   2258    2258  2258     2258\n",
       "Science Fiction         1897    1897  1897     1897"
      ]
     },
     "metadata": {},
     "output_type": "display_data"
    }
   ],
   "source": [
    "books_distribution_df = genre_books.groupby('genre').count()\n",
    "display(books_distribution_df)"
   ]
  },
  {
   "cell_type": "code",
   "execution_count": 5,
   "metadata": {},
   "outputs": [
    {
     "data": {
      "image/png": "[encoded data removed]",
      "text/plain": [
       "<Figure size 648x432 with 1 Axes>"
      ]
     },
     "metadata": {
      "needs_background": "light"
     },
     "output_type": "display_data"
    }
   ],
   "source": [
    "plt.figure(figsize=(9, 6))\n",
    "plt.title('Books Distribution per Genre')\n",
    "plt.xlabel('Genre')\n",
    "plt.ylabel('Number of Books')\n",
    "plt.xticks(rotation=45, horizontalalignment='right')\n",
    "plt.bar(books_distribution_df.index, books_distribution_df['title'])\n",
    "plt.show()"
   ]
  },
  {
   "cell_type": "markdown",
   "metadata": {},
   "source": [
    "From the bar chart, it is revealed that the class of the dataset is not too uniformly distributed. The bar chart shows fantasy is the most common genre in the dataset, followed by novel. On the other hand, books with children's literatures genre are the least common."
   ]
  },
  {
   "cell_type": "markdown",
   "metadata": {},
   "source": [
    "## Create and Measure the Models Accuracy"
   ]
  },
  {
   "cell_type": "markdown",
   "metadata": {},
   "source": [
    "### TF-IDF with default parameter\n",
    "\n",
    "The first stage of the this experiment is to get the summary of each book from dataset and transform it using TF-IDF method. The transformation is needed because the models cannot get raw text as input. All of the models in this stage use TF-IDF transformed text with default parameter as input.  "
   ]
  },
  {
   "cell_type": "code",
   "execution_count": 6,
   "metadata": {},
   "outputs": [],
   "source": [
    "# define function to stem sentence\n",
    "porter=PorterStemmer()\n",
    "def stemSentence(sentence):\n",
    "    token_words=word_tokenize(sentence)\n",
    "    token_words\n",
    "    stem_sentence=[]\n",
    "    for word in token_words:\n",
    "        stem_sentence.append(porter.stem(word))\n",
    "        stem_sentence.append(\" \")\n",
    "    return \"\".join(stem_sentence)\n",
    "\n",
    "# stem book summary\n",
    "genre_books['text_stemmed'] = genre_books.summary.apply(stemSentence)"
   ]
  },
  {
   "cell_type": "code",
   "execution_count": 7,
   "metadata": {},
   "outputs": [],
   "source": [
    "# Splitting the dataset into train data and test data\n",
    "X_train, X_test, y_train, y_test = train_test_split(genre_books.drop(['genre'], axis=1), genre_books.loc[:,'genre'], random_state=69,test_size=0.2)"
   ]
  },
  {
   "cell_type": "code",
   "execution_count": 8,
   "metadata": {},
   "outputs": [
    {
     "data": {
      "text/plain": [
       "5143     Children's literature\n",
       "9826     Children's literature\n",
       "11164    Children's literature\n",
       "8682     Children's literature\n",
       "924      Children's literature\n",
       "                 ...          \n",
       "13820    Children's literature\n",
       "1957     Children's literature\n",
       "13090    Children's literature\n",
       "4232     Children's literature\n",
       "13284    Children's literature\n",
       "Name: genre, Length: 218, dtype: object"
      ]
     },
     "execution_count": 8,
     "metadata": {},
     "output_type": "execute_result"
    }
   ],
   "source": [
    "y_test[y_test == \"Children's literature\"]"
   ]
  },
  {
   "cell_type": "code",
   "execution_count": 9,
   "metadata": {},
   "outputs": [],
   "source": [
    "# Transform the train data and test data using tfidf\n",
    "count_vect = CountVectorizer()\n",
    "tfidf_transformer = TfidfTransformer()\n",
    "\n",
    "X_train_counts = count_vect.fit_transform(X_train.summary)\n",
    "X_train_tfidf = tfidf_transformer.fit_transform(X_train_counts)\n",
    "\n",
    "X_test_counts = count_vect.transform(X_test.summary)\n",
    "X_test_tfidf = tfidf_transformer.transform(X_test_counts)"
   ]
  },
  {
   "cell_type": "code",
   "execution_count": 10,
   "metadata": {},
   "outputs": [
    {
     "name": "stdout",
     "output_type": "stream",
     "text": [
      "The Multinomial Naive Bayes Model accuracy score is 0.56, the confusion matrix is below \n",
      "\n",
      "[[  0   0   0   0   0]\n",
      " [ 95 401  52  45 101]\n",
      " [  0   1  27   0   2]\n",
      " [123  47 197 389  77]\n",
      " [  0  18   2  21 193]]\n",
      "\n",
      "The Logistic Regresion Model accuracy score is 0.71, the confusion matrix is below \n",
      "\n",
      "[[ 90  11  10   5   5]\n",
      " [ 45 362  18  27  50]\n",
      " [ 10   7 186  17   9]\n",
      " [ 69  43  57 363  45]\n",
      " [  4  44   7  43 264]]\n",
      "\n",
      "The KNN Model accuracy score is 0.52, the confusion matrix is below \n",
      "\n",
      "[[ 66  16  18  24  11]\n",
      " [ 28 224  20  30  42]\n",
      " [  4   3 134  13   5]\n",
      " [100 179  93 345 146]\n",
      " [ 20  45  13  43 169]]\n"
     ]
    }
   ],
   "source": [
    "clf = MultinomialNB().fit(X_train_tfidf, y_train)\n",
    "predicted = clf.predict(X_test_tfidf)\n",
    "\n",
    "print('The Multinomial Naive Bayes Model accuracy score is %.2f, the confusion matrix is below \\n' %(accuracy_score(predicted, y_test)))\n",
    "print(confusion_matrix(predicted, y_test))\n",
    "\n",
    "logisticRegression = LogisticRegression(max_iter=200).fit(X_train_tfidf, y_train)\n",
    "LR_predicted = logisticRegression.predict(X_test_tfidf)\n",
    "\n",
    "print('\\nThe Logistic Regresion Model accuracy score is %.2f, the confusion matrix is below \\n' %(accuracy_score(LR_predicted, y_test)))\n",
    "print(confusion_matrix(LR_predicted, y_test))\n",
    "\n",
    "KNNclassifier = KNeighborsClassifier(n_neighbors=10).fit(X_train_tfidf, y_train)\n",
    "KNN_predicted = KNNclassifier.predict(X_test_tfidf)\n",
    "\n",
    "print('\\nThe KNN Model accuracy score is %.2f, the confusion matrix is below \\n' %(accuracy_score(KNN_predicted, y_test)))\n",
    "print(confusion_matrix(KNN_predicted, y_test))"
   ]
  },
  {
   "cell_type": "markdown",
   "metadata": {},
   "source": [
    "Three type of models are used in the first stage are Multinomial Naive Bayes, Logistic Regression and KNN. All of the models use TF-IDF transformed book summary with default parameter as input. The model with highest accuracy is Logistic Regression with accuracy score 0.71, followed by Multinomial Naive Bayes with score 0.56. The confusion matrix of Multinomial Naive Bayes shows interesting result regarding the predicted class. All of the elements in first row is 0 and it means the model never predicts the output to be class 1 which is Children's literature genre. "
   ]
  },
  {
   "cell_type": "markdown",
   "metadata": {},
   "source": [
    "### TF-IDF with Stop Words Parameter Enabled\n",
    "\n",
    "After the models training and measuring accuracy of the models in stage 1, the experiment continues with different treatment in CountVectorizer TF-IDF parameter. This time stop_words parameter is enabled and the training and measuring in stage 1 are repeated. The parameter enabling is expected to improve the accuracy of the three models because it removes common English words that are frequently used in a sentence, such as \"the\", and don't really give any meaningful input to the models. "
   ]
  },
  {
   "cell_type": "code",
   "execution_count": 11,
   "metadata": {},
   "outputs": [],
   "source": [
    "# Transform the train data and test data using tfidf\n",
    "\n",
    "count_vect = CountVectorizer(stop_words='english')\n",
    "tfidf_transformer = TfidfTransformer()                 \n",
    "\n",
    "X_train_counts_stop = count_vect.fit_transform(X_train.summary)\n",
    "X_train_tfidf_stop = tfidf_transformer.fit_transform(X_train_counts_stop)\n",
    "\n",
    "X_test_counts_stop = count_vect.transform(X_test.summary)\n",
    "X_test_tfidf_stop = tfidf_transformer.transform(X_test_counts_stop)"
   ]
  },
  {
   "cell_type": "code",
   "execution_count": 12,
   "metadata": {},
   "outputs": [
    {
     "name": "stdout",
     "output_type": "stream",
     "text": [
      "The Multinomial Naive Bayes Model using stop words accuracy score is 0.60 and the confusion matrix is below \n",
      "\n",
      "[[  0   0   0   0   0]\n",
      " [ 87 382  37  31  68]\n",
      " [  0   1  70   1   3]\n",
      " [131  58 167 390  73]\n",
      " [  0  26   4  33 229]]\n",
      "\n",
      "The Logistic Regression Model using stop words accuracy score is 0.71 and the confusion matrix is below \n",
      "\n",
      "[[ 92  11  13   8   5]\n",
      " [ 44 368  16  25  48]\n",
      " [  8   8 187  17  11]\n",
      " [ 70  39  56 361  46]\n",
      " [  4  41   6  44 263]]\n",
      "\n",
      "The KNN Model using stop words accuracy score is 0.56 and the confusion matrix is below \n",
      "\n",
      "[[ 98  48  32  68  25]\n",
      " [ 39 302  30  63  62]\n",
      " [ 17  22 162  50  25]\n",
      " [ 54  55  45 221  37]\n",
      " [ 10  40   9  53 224]]\n"
     ]
    }
   ],
   "source": [
    "clf = MultinomialNB().fit(X_train_tfidf_stop, y_train)\n",
    "predicted = clf.predict(X_test_tfidf_stop)\n",
    "\n",
    "print('The Multinomial Naive Bayes Model using stop words accuracy score is %.2f and the confusion matrix is below \\n' %(accuracy_score(predicted, y_test)))\n",
    "print(confusion_matrix(predicted, y_test))\n",
    "\n",
    "logisticRegression = LogisticRegression(max_iter=200).fit(X_train_tfidf_stop, y_train)\n",
    "LR_predicted_stop = logisticRegression.predict(X_test_tfidf_stop)\n",
    "\n",
    "print('\\nThe Logistic Regression Model using stop words accuracy score is %.2f and the confusion matrix is below \\n' %(accuracy_score(LR_predicted_stop, y_test)))\n",
    "print(confusion_matrix(LR_predicted_stop, y_test))\n",
    "\n",
    "KNNclassifier_stop = KNeighborsClassifier(n_neighbors=10).fit(X_train_tfidf_stop, y_train)\n",
    "KNN_predicted_stop = KNNclassifier_stop.predict(X_test_tfidf_stop)\n",
    "\n",
    "print('\\nThe KNN Model using stop words accuracy score is %.2f and the confusion matrix is below \\n' %(accuracy_score(KNN_predicted_stop, y_test)))\n",
    "print(confusion_matrix(KNN_predicted_stop, y_test))"
   ]
  },
  {
   "cell_type": "markdown",
   "metadata": {},
   "source": [
    "The second stage transforms book summary with parameter English stop words enabled. Similar to the first stage, Logistic Regression has the highest accuracy score with 0.71, followed by Multinomial Naive Bayes with 0.60 and KNN with 0.56. Multinomial Naive Bayes accuracy increases from 0.56 to 0.60 and KNN accuracy also increases from 0.52 to 0.56. Unusual result of Multinomial Naive Bayes confusion matrix also happens in stage 2. All of the first row elements are 0 and this means Multinomial Naive Bayes never predicts the output to be children's literature genre."
   ]
  },
  {
   "cell_type": "markdown",
   "metadata": {},
   "source": [
    "### TF-IDF using Stemmed Text as Input\n",
    "In the first 2 stages, input text doesn't get any treatment or transformation before CountVectorizer and TF-IDF transformation. This stage transform the input text using Stem technique. The datacamp says \"[Stemming](https://www.datacamp.com/community/tutorials/stemming-lemmatization-python) is the process of reducing inflection in words to their root forms such as mapping a group of words to the same stem even if the stem itself is not a valid word in the Language\". Transforming word into their stemmed version might be able to increase the performance of classification model because words that are different because of grammar's inflection are treated and categorised into the same word. For example, words like 'trouble', 'troubling', 'troubled' are transformed into 'troubl'. "
   ]
  },
  {
   "cell_type": "code",
   "execution_count": 13,
   "metadata": {},
   "outputs": [
    {
     "data": {
      "text/plain": [
       "\"the book start where exil left off , with ben return to jacen aboard the sith medit sphere he found on ziost . the novel follow jacen as he manipul polit , introduc a new law that allow him to rewrit other law . use thi and cal oma ' betray to the galact allianc as leverag , he and admir niathal stage a bloodless coup , arrest oma and instal themselv as joint chief of state . at the same time , jacen send ben to assassin dur gejjen , throw the corellian-l confeder into chao . meanwhil , boba fett and mirta gev are still in search of a cure to fett 's ill after find kad skirata , the son of a clone . in exchang for the promis of make the mandalorian a unit peopl , he cure boba , give him anoth thirti or so year to live . ben overhear a convers between lumiya and jacen and , horrifi , confess all to hi mother , mara jade skywalk . mara , livid with jacen for attempt to turn ben to the dark side , set out to kill him . thi backfir , howev , as jacen kill mara as hi final sacrific . thi sacrific kill ben 's love for jacen , make the propheci complet . think that lumiya kill mara , luke hunt her down and kill her . ben then reveal that mara 's killer could not have been lumiya , sinc ben wa with her at the time . at the end of the book , jacen solo assum hi sith name : darth caedu . \""
      ]
     },
     "execution_count": 13,
     "metadata": {},
     "output_type": "execute_result"
    }
   ],
   "source": [
    "# Stem text example\n",
    "X_train.text_stemmed.iloc[200]"
   ]
  },
  {
   "cell_type": "code",
   "execution_count": 14,
   "metadata": {},
   "outputs": [],
   "source": [
    "# Transform the train data and test data using tfidf\n",
    "count_vect = CountVectorizer()\n",
    "tfidf_transformer = TfidfTransformer()\n",
    "\n",
    "X_train_counts_stem = count_vect.fit_transform(X_train.text_stemmed)\n",
    "X_train_tfidf_stem = tfidf_transformer.fit_transform(X_train_counts_stem)\n",
    "\n",
    "X_test_counts_stem = count_vect.transform(X_test.text_stemmed)\n",
    "X_test_tfidf_stem = tfidf_transformer.transform(X_test_counts_stem)"
   ]
  },
  {
   "cell_type": "code",
   "execution_count": 15,
   "metadata": {},
   "outputs": [
    {
     "name": "stdout",
     "output_type": "stream",
     "text": [
      "The Multinomial Naive Bayes Model using stemmed input accuracy score is 0.56 and the confusion matrix is below \n",
      "\n",
      "[[  0   0   0   0   0]\n",
      " [ 89 390  52  34  87]\n",
      " [  0   1  25   0   2]\n",
      " [129  56 199 397  92]\n",
      " [  0  20   2  24 192]]\n",
      "\n",
      "The Logistic Regresion Model using stemmed input accuracy score is 0.71 and the confusion matrix is below \n",
      "\n",
      "[[ 90  11  10   5   5]\n",
      " [ 45 362  18  27  50]\n",
      " [ 10   7 186  17   9]\n",
      " [ 69  43  57 363  45]\n",
      " [  4  44   7  43 264]]\n",
      "\n",
      "The KNN Model using stemmed input accuracy score is 0.52 and the confusion matrix is below \n",
      "\n",
      "[[ 66  16  18  24  11]\n",
      " [ 28 224  20  30  42]\n",
      " [  4   3 134  13   5]\n",
      " [100 179  93 345 146]\n",
      " [ 20  45  13  43 169]]\n"
     ]
    }
   ],
   "source": [
    "clf = MultinomialNB().fit(X_train_tfidf_stem, y_train)\n",
    "predicted = clf.predict(X_test_tfidf_stem)\n",
    "\n",
    "print('The Multinomial Naive Bayes Model using stemmed input accuracy score is %.2f and the confusion matrix is below \\n' %(accuracy_score(predicted, y_test)))\n",
    "print(confusion_matrix(predicted, y_test))\n",
    "\n",
    "logisticRegression = LogisticRegression(max_iter=200).fit(X_train_tfidf, y_train)\n",
    "LR_predicted = logisticRegression.predict(X_test_tfidf)\n",
    "\n",
    "print('\\nThe Logistic Regresion Model using stemmed input accuracy score is %.2f and the confusion matrix is below \\n' %(accuracy_score(LR_predicted, y_test)))\n",
    "print(confusion_matrix(LR_predicted, y_test))\n",
    "\n",
    "KNNclassifier = KNeighborsClassifier(n_neighbors=10).fit(X_train_tfidf, y_train)\n",
    "KNN_predicted = KNNclassifier.predict(X_test_tfidf)\n",
    "\n",
    "print('\\nThe KNN Model using stemmed input accuracy score is %.2f and the confusion matrix is below \\n' %(accuracy_score(KNN_predicted, y_test)))\n",
    "print(confusion_matrix(KNN_predicted, y_test))"
   ]
  },
  {
   "cell_type": "markdown",
   "metadata": {},
   "source": [
    "The last stage used stem transformed text as input and the model with highest accuracy is Logistic Regression, followed by Multinomial Bayes Analysis and KNN. Multinomial Bayes Analysis still has peculiar confusion matrix that shows the model never predicts output to be class 1 or children's literature genre."
   ]
  },
  {
   "cell_type": "markdown",
   "metadata": {},
   "source": [
    "## Conclusion\n",
    "\n",
    "This project shows that Logistic Regression Model is the best classifying model if the input is text based input. The accuracy score of Logistic Regression Model is consistently around 0.71 in all three different treatment of inputs. The three different treatments are transforming text using TF-IDF with default parameter, transforming text using TF-IDF with English stop words parameter enabled and transforming stemmed text using TF-IDF with default parameter. The best scores all achieved by all of three models when TF-IDF transform with English stop words enabled is used."
   ]
  }
 ],
 "metadata": {
  "kernelspec": {
   "display_name": "Python 3 (ipykernel)",
   "language": "python",
   "name": "python3"
  },
  "language_info": {
   "codemirror_mode": {
    "name": "ipython",
    "version": 3
   },
   "file_extension": ".py",
   "mimetype": "text/x-python",
   "name": "python",
   "nbconvert_exporter": "python",
   "pygments_lexer": "ipython3",
   "version": "3.8.10"
  }
 },
 "nbformat": 4,
 "nbformat_minor": 2
}
